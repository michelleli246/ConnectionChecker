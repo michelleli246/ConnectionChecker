{
  "nbformat": 4,
  "nbformat_minor": 0,
  "metadata": {
    "colab": {
      "name": "capstone-data-processing.ipynb",
      "provenance": [],
      "collapsed_sections": [],
      "include_colab_link": true
    },
    "kernelspec": {
      "name": "python3",
      "display_name": "Python 3"
    },
    "language_info": {
      "name": "python"
    }
  },
  "cells": [
    {
      "cell_type": "markdown",
      "metadata": {
        "id": "view-in-github",
        "colab_type": "text"
      },
      "source": [
        "<a href=\"https://colab.research.google.com/github/michelleli246/ConnectionChecker/blob/master/capstone_data_processing.ipynb\" target=\"_parent\"><img src=\"https://colab.research.google.com/assets/colab-badge.svg\" alt=\"Open In Colab\"/></a>"
      ]
    },
    {
      "cell_type": "code",
      "metadata": {
        "colab": {
          "base_uri": "https://localhost:8080/"
        },
        "id": "6SyLCnv8XcaJ",
        "outputId": "0c523cf0-1b77-471e-86ee-4ee1ad906099"
      },
      "source": [
        "# check the current python version\n",
        "import sys\n",
        "print(sys.version)\n",
        "!pip install folium\n",
        "!pip install tqdm\n",
        "!pip install numpy\n",
        "!pip install pandas\n",
        "!pip install nltk\n",
        "!pip install scikit-learn\n",
        "!pip install scipy\n",
        "!pip install geopy\n",
        "!pip install tabulate\n",
        "!pip install textblob\n",
        "!pip install spacy\n",
        "!python -m spacy download en_core_web_sm\n",
        "\n",
        "#Counter\n",
        "from collections import Counter\n",
        "\n",
        "#Operation\n",
        "import operator\n",
        "\n",
        "#Natural Language Processing Packages\n",
        "import re\n",
        "import nltk\n",
        "\n",
        "## Download Resources\n",
        "nltk.download(\"vader_lexicon\")\n",
        "nltk.download(\"stopwords\")\n",
        "nltk.download(\"averaged_perceptron_tagger\")\n",
        "nltk.download(\"wordnet\")\n",
        "\n",
        "from nltk.sentiment import SentimentAnalyzer\n",
        "from nltk.sentiment.vader import SentimentIntensityAnalyzer\n",
        "from nltk.sentiment.util import *\n",
        "from nltk import tokenize\n",
        "from nltk.corpus import stopwords\n",
        "from nltk.tag import PerceptronTagger\n",
        "from nltk.data import find"
      ],
      "execution_count": 1,
      "outputs": [
        {
          "output_type": "stream",
          "name": "stdout",
          "text": [
            "3.7.12 (default, Sep 10 2021, 00:21:48) \n",
            "[GCC 7.5.0]\n",
            "Requirement already satisfied: folium in /usr/local/lib/python3.7/dist-packages (0.8.3)\n",
            "Requirement already satisfied: numpy in /usr/local/lib/python3.7/dist-packages (from folium) (1.19.5)\n",
            "Requirement already satisfied: requests in /usr/local/lib/python3.7/dist-packages (from folium) (2.23.0)\n",
            "Requirement already satisfied: six in /usr/local/lib/python3.7/dist-packages (from folium) (1.15.0)\n",
            "Requirement already satisfied: branca>=0.3.0 in /usr/local/lib/python3.7/dist-packages (from folium) (0.4.2)\n",
            "Requirement already satisfied: jinja2 in /usr/local/lib/python3.7/dist-packages (from folium) (2.11.3)\n",
            "Requirement already satisfied: MarkupSafe>=0.23 in /usr/local/lib/python3.7/dist-packages (from jinja2->folium) (2.0.1)\n",
            "Requirement already satisfied: certifi>=2017.4.17 in /usr/local/lib/python3.7/dist-packages (from requests->folium) (2021.10.8)\n",
            "Requirement already satisfied: urllib3!=1.25.0,!=1.25.1,<1.26,>=1.21.1 in /usr/local/lib/python3.7/dist-packages (from requests->folium) (1.24.3)\n",
            "Requirement already satisfied: idna<3,>=2.5 in /usr/local/lib/python3.7/dist-packages (from requests->folium) (2.10)\n",
            "Requirement already satisfied: chardet<4,>=3.0.2 in /usr/local/lib/python3.7/dist-packages (from requests->folium) (3.0.4)\n",
            "Requirement already satisfied: tqdm in /usr/local/lib/python3.7/dist-packages (4.62.3)\n",
            "Requirement already satisfied: numpy in /usr/local/lib/python3.7/dist-packages (1.19.5)\n",
            "Requirement already satisfied: pandas in /usr/local/lib/python3.7/dist-packages (1.1.5)\n",
            "Requirement already satisfied: pytz>=2017.2 in /usr/local/lib/python3.7/dist-packages (from pandas) (2018.9)\n",
            "Requirement already satisfied: numpy>=1.15.4 in /usr/local/lib/python3.7/dist-packages (from pandas) (1.19.5)\n",
            "Requirement already satisfied: python-dateutil>=2.7.3 in /usr/local/lib/python3.7/dist-packages (from pandas) (2.8.2)\n",
            "Requirement already satisfied: six>=1.5 in /usr/local/lib/python3.7/dist-packages (from python-dateutil>=2.7.3->pandas) (1.15.0)\n",
            "Requirement already satisfied: nltk in /usr/local/lib/python3.7/dist-packages (3.2.5)\n",
            "Requirement already satisfied: six in /usr/local/lib/python3.7/dist-packages (from nltk) (1.15.0)\n",
            "Requirement already satisfied: scikit-learn in /usr/local/lib/python3.7/dist-packages (1.0.1)\n",
            "Requirement already satisfied: joblib>=0.11 in /usr/local/lib/python3.7/dist-packages (from scikit-learn) (1.1.0)\n",
            "Requirement already satisfied: numpy>=1.14.6 in /usr/local/lib/python3.7/dist-packages (from scikit-learn) (1.19.5)\n",
            "Requirement already satisfied: threadpoolctl>=2.0.0 in /usr/local/lib/python3.7/dist-packages (from scikit-learn) (3.0.0)\n",
            "Requirement already satisfied: scipy>=1.1.0 in /usr/local/lib/python3.7/dist-packages (from scikit-learn) (1.4.1)\n",
            "Requirement already satisfied: scipy in /usr/local/lib/python3.7/dist-packages (1.4.1)\n",
            "Requirement already satisfied: numpy>=1.13.3 in /usr/local/lib/python3.7/dist-packages (from scipy) (1.19.5)\n",
            "Requirement already satisfied: geopy in /usr/local/lib/python3.7/dist-packages (1.17.0)\n",
            "Requirement already satisfied: geographiclib<2,>=1.49 in /usr/local/lib/python3.7/dist-packages (from geopy) (1.52)\n",
            "Requirement already satisfied: tabulate in /usr/local/lib/python3.7/dist-packages (0.8.9)\n",
            "Requirement already satisfied: textblob in /usr/local/lib/python3.7/dist-packages (0.15.3)\n",
            "Requirement already satisfied: nltk>=3.1 in /usr/local/lib/python3.7/dist-packages (from textblob) (3.2.5)\n",
            "Requirement already satisfied: six in /usr/local/lib/python3.7/dist-packages (from nltk>=3.1->textblob) (1.15.0)\n",
            "Requirement already satisfied: spacy in /usr/local/lib/python3.7/dist-packages (2.2.4)\n",
            "Requirement already satisfied: catalogue<1.1.0,>=0.0.7 in /usr/local/lib/python3.7/dist-packages (from spacy) (1.0.0)\n",
            "Requirement already satisfied: setuptools in /usr/local/lib/python3.7/dist-packages (from spacy) (57.4.0)\n",
            "Requirement already satisfied: wasabi<1.1.0,>=0.4.0 in /usr/local/lib/python3.7/dist-packages (from spacy) (0.8.2)\n",
            "Requirement already satisfied: srsly<1.1.0,>=1.0.2 in /usr/local/lib/python3.7/dist-packages (from spacy) (1.0.5)\n",
            "Requirement already satisfied: plac<1.2.0,>=0.9.6 in /usr/local/lib/python3.7/dist-packages (from spacy) (1.1.3)\n",
            "Requirement already satisfied: tqdm<5.0.0,>=4.38.0 in /usr/local/lib/python3.7/dist-packages (from spacy) (4.62.3)\n",
            "Requirement already satisfied: thinc==7.4.0 in /usr/local/lib/python3.7/dist-packages (from spacy) (7.4.0)\n",
            "Requirement already satisfied: requests<3.0.0,>=2.13.0 in /usr/local/lib/python3.7/dist-packages (from spacy) (2.23.0)\n",
            "Requirement already satisfied: preshed<3.1.0,>=3.0.2 in /usr/local/lib/python3.7/dist-packages (from spacy) (3.0.6)\n",
            "Requirement already satisfied: cymem<2.1.0,>=2.0.2 in /usr/local/lib/python3.7/dist-packages (from spacy) (2.0.6)\n",
            "Requirement already satisfied: murmurhash<1.1.0,>=0.28.0 in /usr/local/lib/python3.7/dist-packages (from spacy) (1.0.6)\n",
            "Requirement already satisfied: blis<0.5.0,>=0.4.0 in /usr/local/lib/python3.7/dist-packages (from spacy) (0.4.1)\n",
            "Requirement already satisfied: numpy>=1.15.0 in /usr/local/lib/python3.7/dist-packages (from spacy) (1.19.5)\n",
            "Requirement already satisfied: importlib-metadata>=0.20 in /usr/local/lib/python3.7/dist-packages (from catalogue<1.1.0,>=0.0.7->spacy) (4.8.2)\n",
            "Requirement already satisfied: typing-extensions>=3.6.4 in /usr/local/lib/python3.7/dist-packages (from importlib-metadata>=0.20->catalogue<1.1.0,>=0.0.7->spacy) (3.10.0.2)\n",
            "Requirement already satisfied: zipp>=0.5 in /usr/local/lib/python3.7/dist-packages (from importlib-metadata>=0.20->catalogue<1.1.0,>=0.0.7->spacy) (3.6.0)\n",
            "Requirement already satisfied: idna<3,>=2.5 in /usr/local/lib/python3.7/dist-packages (from requests<3.0.0,>=2.13.0->spacy) (2.10)\n",
            "Requirement already satisfied: chardet<4,>=3.0.2 in /usr/local/lib/python3.7/dist-packages (from requests<3.0.0,>=2.13.0->spacy) (3.0.4)\n",
            "Requirement already satisfied: urllib3!=1.25.0,!=1.25.1,<1.26,>=1.21.1 in /usr/local/lib/python3.7/dist-packages (from requests<3.0.0,>=2.13.0->spacy) (1.24.3)\n",
            "Requirement already satisfied: certifi>=2017.4.17 in /usr/local/lib/python3.7/dist-packages (from requests<3.0.0,>=2.13.0->spacy) (2021.10.8)\n",
            "Collecting en_core_web_sm==2.2.5\n",
            "  Downloading https://github.com/explosion/spacy-models/releases/download/en_core_web_sm-2.2.5/en_core_web_sm-2.2.5.tar.gz (12.0 MB)\n",
            "\u001b[K     |████████████████████████████████| 12.0 MB 4.9 MB/s \n",
            "\u001b[?25hRequirement already satisfied: spacy>=2.2.2 in /usr/local/lib/python3.7/dist-packages (from en_core_web_sm==2.2.5) (2.2.4)\n",
            "Requirement already satisfied: blis<0.5.0,>=0.4.0 in /usr/local/lib/python3.7/dist-packages (from spacy>=2.2.2->en_core_web_sm==2.2.5) (0.4.1)\n",
            "Requirement already satisfied: catalogue<1.1.0,>=0.0.7 in /usr/local/lib/python3.7/dist-packages (from spacy>=2.2.2->en_core_web_sm==2.2.5) (1.0.0)\n",
            "Requirement already satisfied: cymem<2.1.0,>=2.0.2 in /usr/local/lib/python3.7/dist-packages (from spacy>=2.2.2->en_core_web_sm==2.2.5) (2.0.6)\n",
            "Requirement already satisfied: wasabi<1.1.0,>=0.4.0 in /usr/local/lib/python3.7/dist-packages (from spacy>=2.2.2->en_core_web_sm==2.2.5) (0.8.2)\n",
            "Requirement already satisfied: srsly<1.1.0,>=1.0.2 in /usr/local/lib/python3.7/dist-packages (from spacy>=2.2.2->en_core_web_sm==2.2.5) (1.0.5)\n",
            "Requirement already satisfied: murmurhash<1.1.0,>=0.28.0 in /usr/local/lib/python3.7/dist-packages (from spacy>=2.2.2->en_core_web_sm==2.2.5) (1.0.6)\n",
            "Requirement already satisfied: tqdm<5.0.0,>=4.38.0 in /usr/local/lib/python3.7/dist-packages (from spacy>=2.2.2->en_core_web_sm==2.2.5) (4.62.3)\n",
            "Requirement already satisfied: plac<1.2.0,>=0.9.6 in /usr/local/lib/python3.7/dist-packages (from spacy>=2.2.2->en_core_web_sm==2.2.5) (1.1.3)\n",
            "Requirement already satisfied: requests<3.0.0,>=2.13.0 in /usr/local/lib/python3.7/dist-packages (from spacy>=2.2.2->en_core_web_sm==2.2.5) (2.23.0)\n",
            "Requirement already satisfied: preshed<3.1.0,>=3.0.2 in /usr/local/lib/python3.7/dist-packages (from spacy>=2.2.2->en_core_web_sm==2.2.5) (3.0.6)\n",
            "Requirement already satisfied: numpy>=1.15.0 in /usr/local/lib/python3.7/dist-packages (from spacy>=2.2.2->en_core_web_sm==2.2.5) (1.19.5)\n",
            "Requirement already satisfied: thinc==7.4.0 in /usr/local/lib/python3.7/dist-packages (from spacy>=2.2.2->en_core_web_sm==2.2.5) (7.4.0)\n",
            "Requirement already satisfied: setuptools in /usr/local/lib/python3.7/dist-packages (from spacy>=2.2.2->en_core_web_sm==2.2.5) (57.4.0)\n",
            "Requirement already satisfied: importlib-metadata>=0.20 in /usr/local/lib/python3.7/dist-packages (from catalogue<1.1.0,>=0.0.7->spacy>=2.2.2->en_core_web_sm==2.2.5) (4.8.2)\n",
            "Requirement already satisfied: zipp>=0.5 in /usr/local/lib/python3.7/dist-packages (from importlib-metadata>=0.20->catalogue<1.1.0,>=0.0.7->spacy>=2.2.2->en_core_web_sm==2.2.5) (3.6.0)\n",
            "Requirement already satisfied: typing-extensions>=3.6.4 in /usr/local/lib/python3.7/dist-packages (from importlib-metadata>=0.20->catalogue<1.1.0,>=0.0.7->spacy>=2.2.2->en_core_web_sm==2.2.5) (3.10.0.2)\n",
            "Requirement already satisfied: certifi>=2017.4.17 in /usr/local/lib/python3.7/dist-packages (from requests<3.0.0,>=2.13.0->spacy>=2.2.2->en_core_web_sm==2.2.5) (2021.10.8)\n",
            "Requirement already satisfied: idna<3,>=2.5 in /usr/local/lib/python3.7/dist-packages (from requests<3.0.0,>=2.13.0->spacy>=2.2.2->en_core_web_sm==2.2.5) (2.10)\n",
            "Requirement already satisfied: urllib3!=1.25.0,!=1.25.1,<1.26,>=1.21.1 in /usr/local/lib/python3.7/dist-packages (from requests<3.0.0,>=2.13.0->spacy>=2.2.2->en_core_web_sm==2.2.5) (1.24.3)\n",
            "Requirement already satisfied: chardet<4,>=3.0.2 in /usr/local/lib/python3.7/dist-packages (from requests<3.0.0,>=2.13.0->spacy>=2.2.2->en_core_web_sm==2.2.5) (3.0.4)\n",
            "\u001b[38;5;2m✔ Download and installation successful\u001b[0m\n",
            "You can now load the model via spacy.load('en_core_web_sm')\n",
            "[nltk_data] Downloading package vader_lexicon to /root/nltk_data...\n",
            "[nltk_data] Downloading package stopwords to /root/nltk_data...\n",
            "[nltk_data]   Unzipping corpora/stopwords.zip.\n",
            "[nltk_data] Downloading package averaged_perceptron_tagger to\n",
            "[nltk_data]     /root/nltk_data...\n",
            "[nltk_data]   Unzipping taggers/averaged_perceptron_tagger.zip.\n",
            "[nltk_data] Downloading package wordnet to /root/nltk_data...\n",
            "[nltk_data]   Unzipping corpora/wordnet.zip.\n"
          ]
        },
        {
          "output_type": "stream",
          "name": "stderr",
          "text": [
            "/usr/local/lib/python3.7/dist-packages/nltk/twitter/__init__.py:20: UserWarning: The twython library has not been installed. Some functionality from the twitter package will not be available.\n",
            "  warnings.warn(\"The twython library has not been installed. \"\n"
          ]
        }
      ]
    },
    {
      "cell_type": "code",
      "metadata": {
        "id": "Wsg_o9IzY9UE"
      },
      "source": [
        "import pandas as pd\n"
      ],
      "execution_count": 2,
      "outputs": []
    },
    {
      "cell_type": "code",
      "source": [
        "test_indicators = pd.read_csv('testindicators.csv')"
      ],
      "metadata": {
        "id": "dA5tzrmxC_0Q"
      },
      "execution_count": 3,
      "outputs": []
    },
    {
      "cell_type": "code",
      "metadata": {
        "id": "E4yLjyN_YPkh"
      },
      "source": [
        "#data= pd.read_csv('IRIS.csv')"
      ],
      "execution_count": null,
      "outputs": []
    },
    {
      "cell_type": "code",
      "metadata": {
        "id": "CPCStE74ZA47"
      },
      "source": [
        "#data.head()"
      ],
      "execution_count": null,
      "outputs": []
    },
    {
      "cell_type": "code",
      "metadata": {
        "id": "diiukzR4ZNbu"
      },
      "source": [
        "def get_stop_words():\n",
        "    stop = set(stopwords.words('english'))\n",
        "    stop.remove('during') # include during for \"during the reporting period\"\n",
        "    return stop"
      ],
      "execution_count": 4,
      "outputs": []
    },
    {
      "cell_type": "code",
      "metadata": {
        "id": "evICMdCPZJeS"
      },
      "source": [
        "sentence_re = r'''(?x)          # set flag to allow verbose regexps\n",
        "        (?:[A-Z]\\.)+        # abbreviations, e.g. U.S.A.\n",
        "      | \\w+(?:-\\w+)*        # words with optional internal hyphens\n",
        "      | \\$?\\d+(?:\\.\\d+)?%?  # currency and percentages, e.g. $12.40, 82%\n",
        "      | \\.\\.\\.              # ellipsis\n",
        "      | [][.,;\"'?():_`-]    # these are separate tokens; includes ], [\n",
        "    '''\n",
        "\n",
        "# Part of Speech Tagging\n",
        "# Google: https://en.wikipedia.org/wiki/Part-of-speech_tagging\n",
        "tagger = PerceptronTagger()\n",
        "pos_tag = tagger.tag\n",
        "\n",
        "noun_grammar = r\"\"\"\n",
        "    NBAR:\n",
        "        {<NN.*>+}  # Nouns and Adjectives, terminated with Nouns\n",
        "        \n",
        "    NP:\n",
        "        {<NBAR>}\n",
        "        {<NBAR><IN><NBAR>}  # Above, connected with in/of/etc...\n",
        "        {<NN>+}\n",
        "\n",
        "    VP:\n",
        "        {<VBG>}\n",
        "    \n",
        "    IN:\n",
        "        {<IN>}\n",
        "\"\"\"\n",
        "\n",
        "noun_grammar = r\"\"\"\n",
        "    NBAR:\n",
        "        {<NN.*>+}\n",
        "    \n",
        "    NP:\n",
        "        {<IN><VBG><NN>}\n",
        "        {<NBAR>}\n",
        "\n",
        "    VP:\n",
        "        {<VB|VBG|VBD|VBN>}\n",
        "    \n",
        "\"\"\"\n",
        "\n",
        "chunker = nltk.RegexpParser(noun_grammar)\n",
        "lemmatizer = nltk.WordNetLemmatizer()\n",
        "stemmer = nltk.stem.porter.PorterStemmer()\n",
        "stopword_list = get_stop_words()\n",
        "  \n",
        "def normalise(word,lemmatizer=lemmatizer, stemmer=stemmer):\n",
        "    \"\"\"Normalises words to lowercase and stems and lemmatizes it.\"\"\"\n",
        "    word = word.lower()\n",
        "    #word = stemmer.stem(word)\n",
        "    word = lemmatizer.lemmatize(word)\n",
        "    return word\n",
        "\n",
        "def acceptable_word(word, stopword_list=stopword_list):\n",
        "    \"\"\"Checks conditions for acceptable word: length, stopword.\"\"\"\n",
        "    accepted = bool(1 < len(word) <= 40 and word.lower() not in stopword_list)\n",
        "    return accepted\n",
        "\n",
        "def flatten_phrase_lists(npTokenList):\n",
        "    finalList =[]\n",
        "    for phrase in npTokenList:\n",
        "        token = ''\n",
        "        for word in phrase:\n",
        "            token += word + ' '\n",
        "        finalList.append(token.rstrip())\n",
        "    return finalList\n",
        "\n",
        "def getPhrases(text):\n",
        "\n",
        "    counter = Counter()\n",
        "\n",
        "    #test = flatten_phrase_lists(chunker.parse(pos_tag(re.findall(r'\\w+', text))))\n",
        "    test = chunker.parse(pos_tag(re.findall(r'\\w+', text)))\n",
        "\n",
        "    return test"
      ],
      "execution_count": 83,
      "outputs": []
    },
    {
      "cell_type": "code",
      "metadata": {
        "colab": {
          "base_uri": "https://localhost:8080/"
        },
        "id": "a9vJ37YTagEr",
        "outputId": "00bc99bc-e2ae-47ac-f1b9-851c34d9b7df"
      },
      "source": [
        "from nltk.tokenize import word_tokenize\n",
        "nltk.download('punkt')\n",
        "import string"
      ],
      "execution_count": 27,
      "outputs": [
        {
          "output_type": "stream",
          "name": "stdout",
          "text": [
            "[nltk_data] Downloading package punkt to /root/nltk_data...\n",
            "[nltk_data]   Package punkt is already up-to-date!\n"
          ]
        }
      ]
    },
    {
      "cell_type": "code",
      "metadata": {
        "id": "3NXDcQ6IZvqw",
        "colab": {
          "base_uri": "https://localhost:8080/",
          "height": 53
        },
        "outputId": "8245d786-ca0a-425b-e22d-c9fe9eaa0f20"
      },
      "source": [
        "'''\n",
        "order of operations:\n",
        "1. tokenize( remove punctuation) pos tag\n",
        "2. chunk noun-noun phrases or adjective-noun \n",
        "3. remove stop words?\n",
        "4. create directed graph - edges are the verbs\n",
        "'''"
      ],
      "execution_count": 9,
      "outputs": [
        {
          "output_type": "execute_result",
          "data": {
            "application/vnd.google.colaboratory.intrinsic+json": {
              "type": "string"
            },
            "text/plain": [
              "'\\norder of operations:\\n1. tokenize( remove punctuation) pos tag\\n2. chunk noun-noun phrases or adjective-noun \\n3. remove stop words?\\n4. create directed graph - edges are the verbs\\n'"
            ]
          },
          "metadata": {},
          "execution_count": 9
        }
      ]
    },
    {
      "cell_type": "markdown",
      "metadata": {
        "id": "D3N1fXMsn5Vf"
      },
      "source": [
        "## POS tagging w positions"
      ]
    },
    {
      "cell_type": "code",
      "metadata": {
        "id": "nm1xtbFcosyd"
      },
      "source": [
        "def POS_tagger(subtrees):\n",
        "  terms = {}\n",
        "  lvl1 = 0\n",
        "  for test in subtrees:\n",
        "    phrase = test.label()\n",
        "    if phrase == 'NP':\n",
        "      p = {}\n",
        "      for w in range(len(test.leaves())):\n",
        "        p[w] = test.leaves()[w][0]\n",
        "      terms[lvl1] = {'pos':'N', 'phrase':p}\n",
        "      lvl1+=1\n",
        "    elif phrase == 'VP':\n",
        "      p = {}\n",
        "      for w in range(len(test.leaves())):\n",
        "        p[w] = test.leaves()[w][0]\n",
        "      terms[lvl1] = {'pos':'V', 'phrase':p}\n",
        "\n",
        "      lvl1+=1\n",
        "    elif phrase == 'IN':\n",
        "      p = {}\n",
        "      for w in range(len(test.leaves())):\n",
        "        p[w] = test.leaves()[w][0]\n",
        "      terms[lvl1] = {'pos':'IN', 'phrase':p}\n",
        "      lvl1+=1\n",
        "\n",
        "  return terms"
      ],
      "execution_count": 80,
      "outputs": []
    },
    {
      "cell_type": "code",
      "source": [
        "def get_key_pos_tag(phrase):\n",
        "  phrases = [normalise(i) for i in word_tokenize(phrase) if acceptable_word(i)]\n",
        "  print('p',phrases)\n",
        "  n_phrases = getPhrases(' '.join(phrases))\n",
        "  print('nphrase', n_phrases)\n",
        "  terms = POS_tagger(n_phrases.subtrees())\n",
        "  print('terms', terms)\n",
        "\n",
        "  noun_phrases = []\n",
        "  verb_phrases = []\n",
        "  for k,v in terms.items():\n",
        "    if v['pos'] == 'N':\n",
        "      noun_phrases.append(v)\n",
        "    if v['pos'] == 'V':\n",
        "      verb_phrases.append(v)\n",
        "\n",
        "  return noun_phrases, verb_phrases"
      ],
      "metadata": {
        "id": "M5u-tIJ-EgHs"
      },
      "execution_count": 81,
      "outputs": []
    },
    {
      "cell_type": "code",
      "source": [
        "get_key_pos_tag('Value of payments made to smallholder farmers who sold to the organization during the reporting period.')"
      ],
      "metadata": {
        "colab": {
          "base_uri": "https://localhost:8080/"
        },
        "id": "-ZmMJClhVChn",
        "outputId": "47172f01-bac6-4388-bbe1-0942624325f9"
      },
      "execution_count": 84,
      "outputs": [
        {
          "output_type": "stream",
          "name": "stdout",
          "text": [
            "p ['value', 'payment', 'made', 'smallholder', 'farmer', 'sold', 'organization', 'during', 'reporting', 'period']\n",
            "nphrase (S\n",
            "  (NP (NBAR value/NN payment/NN))\n",
            "  (VP made/VBD)\n",
            "  smallholder/JJR\n",
            "  (NP (NBAR farmer/NN))\n",
            "  (VP sold/VBN)\n",
            "  (NP (NBAR organization/NN))\n",
            "  during/IN\n",
            "  (VP reporting/VBG)\n",
            "  (NP (NBAR period/NN)))\n",
            "terms {0: {'pos': 'N', 'phrase': {0: 'value', 1: 'payment'}}, 1: {'pos': 'V', 'phrase': {0: 'made'}}, 2: {'pos': 'N', 'phrase': {0: 'farmer'}}, 3: {'pos': 'V', 'phrase': {0: 'sold'}}, 4: {'pos': 'N', 'phrase': {0: 'organization'}}, 5: {'pos': 'V', 'phrase': {0: 'reporting'}}, 6: {'pos': 'N', 'phrase': {0: 'period'}}}\n"
          ]
        },
        {
          "output_type": "execute_result",
          "data": {
            "text/plain": [
              "([{'phrase': {0: 'value', 1: 'payment'}, 'pos': 'N'},\n",
              "  {'phrase': {0: 'farmer'}, 'pos': 'N'},\n",
              "  {'phrase': {0: 'organization'}, 'pos': 'N'},\n",
              "  {'phrase': {0: 'period'}, 'pos': 'N'}],\n",
              " [{'phrase': {0: 'made'}, 'pos': 'V'},\n",
              "  {'phrase': {0: 'sold'}, 'pos': 'V'},\n",
              "  {'phrase': {0: 'reporting'}, 'pos': 'V'}])"
            ]
          },
          "metadata": {},
          "execution_count": 84
        }
      ]
    },
    {
      "cell_type": "code",
      "source": [
        "test_indicators['parsed_pos'] =  test_indicators['IndicatorText'].apply(get_key_pos_tag)"
      ],
      "metadata": {
        "id": "HBj7TvieQQRH"
      },
      "execution_count": 32,
      "outputs": []
    },
    {
      "cell_type": "code",
      "source": [
        "pd.set_option('display.max_colwidth', None)"
      ],
      "metadata": {
        "id": "DzsCV1rlRFp8"
      },
      "execution_count": 19,
      "outputs": []
    },
    {
      "cell_type": "code",
      "source": [
        "test_indicators[['IndicatorText','parsed_pos']].head(20)"
      ],
      "metadata": {
        "colab": {
          "base_uri": "https://localhost:8080/",
          "height": 1000
        },
        "id": "YF7Kp54XQnDx",
        "outputId": "2cef1d9d-3898-488e-e509-d8d39e99dafe"
      },
      "execution_count": 61,
      "outputs": [
        {
          "output_type": "execute_result",
          "data": {
            "text/html": [
              "\n",
              "  <div id=\"df-8a812eeb-6ec6-4bf5-9ba7-51e3aa82c159\">\n",
              "    <div class=\"colab-df-container\">\n",
              "      <div>\n",
              "<style scoped>\n",
              "    .dataframe tbody tr th:only-of-type {\n",
              "        vertical-align: middle;\n",
              "    }\n",
              "\n",
              "    .dataframe tbody tr th {\n",
              "        vertical-align: top;\n",
              "    }\n",
              "\n",
              "    .dataframe thead th {\n",
              "        text-align: right;\n",
              "    }\n",
              "</style>\n",
              "<table border=\"1\" class=\"dataframe\">\n",
              "  <thead>\n",
              "    <tr style=\"text-align: right;\">\n",
              "      <th></th>\n",
              "      <th>IndicatorText</th>\n",
              "      <th>parsed_pos</th>\n",
              "    </tr>\n",
              "  </thead>\n",
              "  <tbody>\n",
              "    <tr>\n",
              "      <th>0</th>\n",
              "      <td>Number of unique smallholder farmer individuals who were clients during the reporting period.</td>\n",
              "      <td>([{'pos': 'N', 'phrase': {0: 'number'}}, {'pos': 'N', 'phrase': {0: 'smallholder', 1: 'farmer'}}, {'pos': 'N', 'phrase': {0: 'client'}}, {'pos': 'N', 'phrase': {0: 'during', 1: 'reporting', 2: 'period'}}], [])</td>\n",
              "    </tr>\n",
              "    <tr>\n",
              "      <th>1</th>\n",
              "      <td>Number of smallholder farmers who sold to the organization during the reporting period.</td>\n",
              "      <td>([{'pos': 'N', 'phrase': {0: 'number', 1: 'smallholder', 2: 'farmer'}}, {'pos': 'N', 'phrase': {0: 'organization'}}, {'pos': 'N', 'phrase': {0: 'during', 1: 'reporting', 2: 'period'}}], [])</td>\n",
              "    </tr>\n",
              "    <tr>\n",
              "      <th>2</th>\n",
              "      <td>Value of payments made to smallholder farmers who sold to the organization during the reporting period.</td>\n",
              "      <td>([{'pos': 'N', 'phrase': {0: 'value', 1: 'payment'}}, {'pos': 'N', 'phrase': {0: 'farmer'}}, {'pos': 'N', 'phrase': {0: 'organization'}}, {'pos': 'N', 'phrase': {0: 'during', 1: 'reporting', 2: 'period'}}], [])</td>\n",
              "    </tr>\n",
              "    <tr>\n",
              "      <th>3</th>\n",
              "      <td>Percentage of payments made to smallholder farmer suppliers compared to total payments made to all suppliers of the organization during the reporting period.</td>\n",
              "      <td>([{'pos': 'N', 'phrase': {0: 'percentage', 1: 'payment'}}, {'pos': 'N', 'phrase': {0: 'farmer', 1: 'supplier'}}, {'pos': 'N', 'phrase': {0: 'payment'}}, {'pos': 'N', 'phrase': {0: 'organization'}}, {'pos': 'N', 'phrase': {0: 'during', 1: 'reporting', 2: 'period'}}], [])</td>\n",
              "    </tr>\n",
              "    <tr>\n",
              "      <th>4</th>\n",
              "      <td>Type of crop(s) produced by the organization during the reporting period. Select from the options in the Reference List tab.</td>\n",
              "      <td>([{'pos': 'N', 'phrase': {0: 'type', 1: 'crop'}}, {'pos': 'N', 'phrase': {0: 'organization'}}, {'pos': 'N', 'phrase': {0: 'during', 1: 'reporting', 2: 'period', 3: 'select', 4: 'option', 5: 'reference', 6: 'list', 7: 'tab'}}], [])</td>\n",
              "    </tr>\n",
              "    <tr>\n",
              "      <th>5</th>\n",
              "      <td>Type of livestock product(s) produced by the organization during the reporting period. Select from the options in the Reference List tab.</td>\n",
              "      <td>([{'pos': 'N', 'phrase': {0: 'type', 1: 'livestock', 2: 'product'}}, {'pos': 'N', 'phrase': {0: 'organization'}}, {'pos': 'N', 'phrase': {0: 'during', 1: 'reporting', 2: 'period', 3: 'select', 4: 'option', 5: 'reference', 6: 'list', 7: 'tab'}}], [])</td>\n",
              "    </tr>\n",
              "    <tr>\n",
              "      <th>6</th>\n",
              "      <td>Area of land directly controlled by the organization during the reporting period.</td>\n",
              "      <td>([{'pos': 'N', 'phrase': {0: 'area', 1: 'land'}}, {'pos': 'N', 'phrase': {0: 'organization'}}, {'pos': 'N', 'phrase': {0: 'during', 1: 'reporting', 2: 'period'}}], [])</td>\n",
              "    </tr>\n",
              "    <tr>\n",
              "      <th>7</th>\n",
              "      <td>Area of land directly controlled by the organization and under cultivation. Report directly controlled land area cultivated during the reporting period.</td>\n",
              "      <td>([{'pos': 'N', 'phrase': {0: 'area', 1: 'land'}}, {'pos': 'N', 'phrase': {0: 'organization', 1: 'cultivation', 2: 'report'}}, {'pos': 'N', 'phrase': {0: 'land', 1: 'area'}}, {'pos': 'N', 'phrase': {0: 'reporting', 1: 'period'}}], [])</td>\n",
              "    </tr>\n",
              "    <tr>\n",
              "      <th>8</th>\n",
              "      <td>Area of land directly controlled by the organization and under sustainable cultivation or sustainable stewardship. Report directly controlled land area sustainably managed during the reporting period.</td>\n",
              "      <td>([{'pos': 'N', 'phrase': {0: 'area', 1: 'land'}}, {'pos': 'N', 'phrase': {0: 'organization'}}, {'pos': 'N', 'phrase': {0: 'cultivation'}}, {'pos': 'N', 'phrase': {0: 'report'}}, {'pos': 'N', 'phrase': {0: 'land', 1: 'area'}}, {'pos': 'N', 'phrase': {0: 'reporting', 1: 'period'}}], [])</td>\n",
              "    </tr>\n",
              "    <tr>\n",
              "      <th>9</th>\n",
              "      <td>Area of land directly controlled by the organization and treated with pesticides. Report directly controlled land area treated during the reporting period.</td>\n",
              "      <td>([{'pos': 'N', 'phrase': {0: 'area', 1: 'land'}}, {'pos': 'N', 'phrase': {0: 'organization'}}, {'pos': 'N', 'phrase': {0: 'report'}}, {'pos': 'N', 'phrase': {0: 'land', 1: 'area'}}, {'pos': 'N', 'phrase': {0: 'reporting', 1: 'period'}}], [])</td>\n",
              "    </tr>\n",
              "    <tr>\n",
              "      <th>10</th>\n",
              "      <td>Amount of pesticides used during the reporting period on land area directly controlled by the organization.</td>\n",
              "      <td>([{'pos': 'N', 'phrase': {0: 'amount', 1: 'pesticide'}}, {'pos': 'N', 'phrase': {0: 'during', 1: 'reporting', 2: 'period', 3: 'land', 4: 'area'}}, {'pos': 'N', 'phrase': {0: 'organization'}}], [])</td>\n",
              "    </tr>\n",
              "    <tr>\n",
              "      <th>11</th>\n",
              "      <td>Number of contracts/purchase agreements that the organization holds for purchase of its products/services. Report contracts fulfilled and outstanding as of the end of the reporting period.</td>\n",
              "      <td>([{'pos': 'N', 'phrase': {0: 'number', 1: 'contracts'}}, {'pos': 'N', 'phrase': {0: 'agreement', 1: 'organization'}}, {'pos': 'N', 'phrase': {0: 'purchase', 1: 'products', 2: 'services', 3: 'report', 4: 'contract'}}, {'pos': 'N', 'phrase': {0: 'end', 1: 'reporting', 2: 'period'}}], [])</td>\n",
              "    </tr>\n",
              "    <tr>\n",
              "      <th>12</th>\n",
              "      <td>Area of land indirectly controlled by the organization during the reporting period.</td>\n",
              "      <td>([{'pos': 'N', 'phrase': {0: 'area', 1: 'land'}}, {'pos': 'N', 'phrase': {0: 'organization'}}, {'pos': 'N', 'phrase': {0: 'during', 1: 'reporting', 2: 'period'}}], [])</td>\n",
              "    </tr>\n",
              "    <tr>\n",
              "      <th>13</th>\n",
              "      <td>Area of land indirectly controlled by the organization and under cultivation. Report indirectly controlled land area cultivated during the reporting period.</td>\n",
              "      <td>([{'pos': 'N', 'phrase': {0: 'area', 1: 'land'}}, {'pos': 'N', 'phrase': {0: 'organization', 1: 'cultivation', 2: 'report'}}, {'pos': 'N', 'phrase': {0: 'land', 1: 'area'}}, {'pos': 'N', 'phrase': {0: 'reporting', 1: 'period'}}], [])</td>\n",
              "    </tr>\n",
              "    <tr>\n",
              "      <th>14</th>\n",
              "      <td>Area of land indirectly controlled by the organization and under sustainable cultivation or sustainable stewardship. Report indirectly controlled land area sustainably managed during the reporting period.</td>\n",
              "      <td>([{'pos': 'N', 'phrase': {0: 'area', 1: 'land'}}, {'pos': 'N', 'phrase': {0: 'organization'}}, {'pos': 'N', 'phrase': {0: 'cultivation'}}, {'pos': 'N', 'phrase': {0: 'report'}}, {'pos': 'N', 'phrase': {0: 'land', 1: 'area'}}, {'pos': 'N', 'phrase': {0: 'reporting', 1: 'period'}}], [])</td>\n",
              "    </tr>\n",
              "    <tr>\n",
              "      <th>15</th>\n",
              "      <td>Price premium percentage that the producer (supplier) selling to the organization obtains from the organization for its goods or services during the reporting period.</td>\n",
              "      <td>([{'pos': 'N', 'phrase': {0: 'price', 1: 'premium', 2: 'percentage', 3: 'producer', 4: 'supplier'}}, {'pos': 'N', 'phrase': {0: 'organization', 1: 'obtains', 2: 'organization'}}, {'pos': 'N', 'phrase': {0: 'service'}}, {'pos': 'N', 'phrase': {0: 'during', 1: 'reporting', 2: 'period'}}], [{'pos': 'V', 'phrase': {0: 'selling'}}])</td>\n",
              "    </tr>\n",
              "    <tr>\n",
              "      <th>16</th>\n",
              "      <td>Average agricultural yield per hectare of clients (who were farmers) of the organization during the reporting period.</td>\n",
              "      <td>([{'pos': 'N', 'phrase': {0: 'yield'}}, {'pos': 'N', 'phrase': {0: 'hectare', 1: 'client', 2: 'farmer', 3: 'organization'}}, {'pos': 'N', 'phrase': {0: 'during', 1: 'reporting', 2: 'period'}}], [])</td>\n",
              "    </tr>\n",
              "    <tr>\n",
              "      <th>17</th>\n",
              "      <td>Average agricultural yield per hectare, of clients (who were smallholder farmers) of the organization during the reporting period.</td>\n",
              "      <td>([{'pos': 'N', 'phrase': {0: 'yield'}}, {'pos': 'N', 'phrase': {0: 'hectare', 1: 'client', 2: 'smallholder', 3: 'farmer', 4: 'organization'}}, {'pos': 'N', 'phrase': {0: 'during', 1: 'reporting', 2: 'period'}}], [])</td>\n",
              "    </tr>\n",
              "    <tr>\n",
              "      <th>18</th>\n",
              "      <td>Units/volume purchased from supplier individuals and organizations that sold to the organization that have received a price premium during the reporting period.</td>\n",
              "      <td>([{'pos': 'N', 'phrase': {0: 'units', 1: 'volume'}}, {'pos': 'N', 'phrase': {0: 'organization'}}, {'pos': 'N', 'phrase': {0: 'organization'}}, {'pos': 'N', 'phrase': {0: 'price', 1: 'premium'}}, {'pos': 'N', 'phrase': {0: 'during', 1: 'reporting', 2: 'period'}}], [])</td>\n",
              "    </tr>\n",
              "    <tr>\n",
              "      <th>19</th>\n",
              "      <td>Units/volume purchased from organizations that sold to the reporting organization during the reporting period.</td>\n",
              "      <td>([{'pos': 'N', 'phrase': {0: 'units', 1: 'volume'}}, {'pos': 'N', 'phrase': {0: 'organization'}}, {'pos': 'N', 'phrase': {0: 'organization'}}, {'pos': 'N', 'phrase': {0: 'during', 1: 'reporting', 2: 'period'}}], [{'pos': 'V', 'phrase': {0: 'reporting'}}])</td>\n",
              "    </tr>\n",
              "  </tbody>\n",
              "</table>\n",
              "</div>\n",
              "      <button class=\"colab-df-convert\" onclick=\"convertToInteractive('df-8a812eeb-6ec6-4bf5-9ba7-51e3aa82c159')\"\n",
              "              title=\"Convert this dataframe to an interactive table.\"\n",
              "              style=\"display:none;\">\n",
              "        \n",
              "  <svg xmlns=\"http://www.w3.org/2000/svg\" height=\"24px\"viewBox=\"0 0 24 24\"\n",
              "       width=\"24px\">\n",
              "    <path d=\"M0 0h24v24H0V0z\" fill=\"none\"/>\n",
              "    <path d=\"M18.56 5.44l.94 2.06.94-2.06 2.06-.94-2.06-.94-.94-2.06-.94 2.06-2.06.94zm-11 1L8.5 8.5l.94-2.06 2.06-.94-2.06-.94L8.5 2.5l-.94 2.06-2.06.94zm10 10l.94 2.06.94-2.06 2.06-.94-2.06-.94-.94-2.06-.94 2.06-2.06.94z\"/><path d=\"M17.41 7.96l-1.37-1.37c-.4-.4-.92-.59-1.43-.59-.52 0-1.04.2-1.43.59L10.3 9.45l-7.72 7.72c-.78.78-.78 2.05 0 2.83L4 21.41c.39.39.9.59 1.41.59.51 0 1.02-.2 1.41-.59l7.78-7.78 2.81-2.81c.8-.78.8-2.07 0-2.86zM5.41 20L4 18.59l7.72-7.72 1.47 1.35L5.41 20z\"/>\n",
              "  </svg>\n",
              "      </button>\n",
              "      \n",
              "  <style>\n",
              "    .colab-df-container {\n",
              "      display:flex;\n",
              "      flex-wrap:wrap;\n",
              "      gap: 12px;\n",
              "    }\n",
              "\n",
              "    .colab-df-convert {\n",
              "      background-color: #E8F0FE;\n",
              "      border: none;\n",
              "      border-radius: 50%;\n",
              "      cursor: pointer;\n",
              "      display: none;\n",
              "      fill: #1967D2;\n",
              "      height: 32px;\n",
              "      padding: 0 0 0 0;\n",
              "      width: 32px;\n",
              "    }\n",
              "\n",
              "    .colab-df-convert:hover {\n",
              "      background-color: #E2EBFA;\n",
              "      box-shadow: 0px 1px 2px rgba(60, 64, 67, 0.3), 0px 1px 3px 1px rgba(60, 64, 67, 0.15);\n",
              "      fill: #174EA6;\n",
              "    }\n",
              "\n",
              "    [theme=dark] .colab-df-convert {\n",
              "      background-color: #3B4455;\n",
              "      fill: #D2E3FC;\n",
              "    }\n",
              "\n",
              "    [theme=dark] .colab-df-convert:hover {\n",
              "      background-color: #434B5C;\n",
              "      box-shadow: 0px 1px 3px 1px rgba(0, 0, 0, 0.15);\n",
              "      filter: drop-shadow(0px 1px 2px rgba(0, 0, 0, 0.3));\n",
              "      fill: #FFFFFF;\n",
              "    }\n",
              "  </style>\n",
              "\n",
              "      <script>\n",
              "        const buttonEl =\n",
              "          document.querySelector('#df-8a812eeb-6ec6-4bf5-9ba7-51e3aa82c159 button.colab-df-convert');\n",
              "        buttonEl.style.display =\n",
              "          google.colab.kernel.accessAllowed ? 'block' : 'none';\n",
              "\n",
              "        async function convertToInteractive(key) {\n",
              "          const element = document.querySelector('#df-8a812eeb-6ec6-4bf5-9ba7-51e3aa82c159');\n",
              "          const dataTable =\n",
              "            await google.colab.kernel.invokeFunction('convertToInteractive',\n",
              "                                                     [key], {});\n",
              "          if (!dataTable) return;\n",
              "\n",
              "          const docLinkHtml = 'Like what you see? Visit the ' +\n",
              "            '<a target=\"_blank\" href=https://colab.research.google.com/notebooks/data_table.ipynb>data table notebook</a>'\n",
              "            + ' to learn more about interactive tables.';\n",
              "          element.innerHTML = '';\n",
              "          dataTable['output_type'] = 'display_data';\n",
              "          await google.colab.output.renderOutput(dataTable, element);\n",
              "          const docLink = document.createElement('div');\n",
              "          docLink.innerHTML = docLinkHtml;\n",
              "          element.appendChild(docLink);\n",
              "        }\n",
              "      </script>\n",
              "    </div>\n",
              "  </div>\n",
              "  "
            ],
            "text/plain": [
              "                                                                                                                                                                                                   IndicatorText                                                                                                                                                                                                                                                                                                                                 parsed_pos\n",
              "0                                                                                                                  Number of unique smallholder farmer individuals who were clients during the reporting period.                                                                                                                          ([{'pos': 'N', 'phrase': {0: 'number'}}, {'pos': 'N', 'phrase': {0: 'smallholder', 1: 'farmer'}}, {'pos': 'N', 'phrase': {0: 'client'}}, {'pos': 'N', 'phrase': {0: 'during', 1: 'reporting', 2: 'period'}}], [])\n",
              "1                                                                                                                        Number of smallholder farmers who sold to the organization during the reporting period.                                                                                                                                              ([{'pos': 'N', 'phrase': {0: 'number', 1: 'smallholder', 2: 'farmer'}}, {'pos': 'N', 'phrase': {0: 'organization'}}, {'pos': 'N', 'phrase': {0: 'during', 1: 'reporting', 2: 'period'}}], [])\n",
              "2                                                                                                        Value of payments made to smallholder farmers who sold to the organization during the reporting period.                                                                                                                         ([{'pos': 'N', 'phrase': {0: 'value', 1: 'payment'}}, {'pos': 'N', 'phrase': {0: 'farmer'}}, {'pos': 'N', 'phrase': {0: 'organization'}}, {'pos': 'N', 'phrase': {0: 'during', 1: 'reporting', 2: 'period'}}], [])\n",
              "3                                                  Percentage of payments made to smallholder farmer suppliers compared to total payments made to all suppliers of the organization during the reporting period.                                                             ([{'pos': 'N', 'phrase': {0: 'percentage', 1: 'payment'}}, {'pos': 'N', 'phrase': {0: 'farmer', 1: 'supplier'}}, {'pos': 'N', 'phrase': {0: 'payment'}}, {'pos': 'N', 'phrase': {0: 'organization'}}, {'pos': 'N', 'phrase': {0: 'during', 1: 'reporting', 2: 'period'}}], [])\n",
              "4                                                                                   Type of crop(s) produced by the organization during the reporting period. Select from the options in the Reference List tab.                                                                                                     ([{'pos': 'N', 'phrase': {0: 'type', 1: 'crop'}}, {'pos': 'N', 'phrase': {0: 'organization'}}, {'pos': 'N', 'phrase': {0: 'during', 1: 'reporting', 2: 'period', 3: 'select', 4: 'option', 5: 'reference', 6: 'list', 7: 'tab'}}], [])\n",
              "5                                                                      Type of livestock product(s) produced by the organization during the reporting period. Select from the options in the Reference List tab.                                                                                  ([{'pos': 'N', 'phrase': {0: 'type', 1: 'livestock', 2: 'product'}}, {'pos': 'N', 'phrase': {0: 'organization'}}, {'pos': 'N', 'phrase': {0: 'during', 1: 'reporting', 2: 'period', 3: 'select', 4: 'option', 5: 'reference', 6: 'list', 7: 'tab'}}], [])\n",
              "6                                                                                                                              Area of land directly controlled by the organization during the reporting period.                                                                                                                                                                    ([{'pos': 'N', 'phrase': {0: 'area', 1: 'land'}}, {'pos': 'N', 'phrase': {0: 'organization'}}, {'pos': 'N', 'phrase': {0: 'during', 1: 'reporting', 2: 'period'}}], [])\n",
              "7                                                       Area of land directly controlled by the organization and under cultivation. Report directly controlled land area cultivated during the reporting period.                                                                                                  ([{'pos': 'N', 'phrase': {0: 'area', 1: 'land'}}, {'pos': 'N', 'phrase': {0: 'organization', 1: 'cultivation', 2: 'report'}}, {'pos': 'N', 'phrase': {0: 'land', 1: 'area'}}, {'pos': 'N', 'phrase': {0: 'reporting', 1: 'period'}}], [])\n",
              "8       Area of land directly controlled by the organization and under sustainable cultivation or sustainable stewardship. Report directly controlled land area sustainably managed during the reporting period.                                              ([{'pos': 'N', 'phrase': {0: 'area', 1: 'land'}}, {'pos': 'N', 'phrase': {0: 'organization'}}, {'pos': 'N', 'phrase': {0: 'cultivation'}}, {'pos': 'N', 'phrase': {0: 'report'}}, {'pos': 'N', 'phrase': {0: 'land', 1: 'area'}}, {'pos': 'N', 'phrase': {0: 'reporting', 1: 'period'}}], [])\n",
              "9                                                    Area of land directly controlled by the organization and treated with pesticides. Report directly controlled land area treated during the reporting period.                                                                                          ([{'pos': 'N', 'phrase': {0: 'area', 1: 'land'}}, {'pos': 'N', 'phrase': {0: 'organization'}}, {'pos': 'N', 'phrase': {0: 'report'}}, {'pos': 'N', 'phrase': {0: 'land', 1: 'area'}}, {'pos': 'N', 'phrase': {0: 'reporting', 1: 'period'}}], [])\n",
              "10                                                                                                   Amount of pesticides used during the reporting period on land area directly controlled by the organization.                                                                                                                                       ([{'pos': 'N', 'phrase': {0: 'amount', 1: 'pesticide'}}, {'pos': 'N', 'phrase': {0: 'during', 1: 'reporting', 2: 'period', 3: 'land', 4: 'area'}}, {'pos': 'N', 'phrase': {0: 'organization'}}], [])\n",
              "11                  Number of contracts/purchase agreements that the organization holds for purchase of its products/services. Report contracts fulfilled and outstanding as of the end of the reporting period.                                             ([{'pos': 'N', 'phrase': {0: 'number', 1: 'contracts'}}, {'pos': 'N', 'phrase': {0: 'agreement', 1: 'organization'}}, {'pos': 'N', 'phrase': {0: 'purchase', 1: 'products', 2: 'services', 3: 'report', 4: 'contract'}}, {'pos': 'N', 'phrase': {0: 'end', 1: 'reporting', 2: 'period'}}], [])\n",
              "12                                                                                                                           Area of land indirectly controlled by the organization during the reporting period.                                                                                                                                                                    ([{'pos': 'N', 'phrase': {0: 'area', 1: 'land'}}, {'pos': 'N', 'phrase': {0: 'organization'}}, {'pos': 'N', 'phrase': {0: 'during', 1: 'reporting', 2: 'period'}}], [])\n",
              "13                                                  Area of land indirectly controlled by the organization and under cultivation. Report indirectly controlled land area cultivated during the reporting period.                                                                                                  ([{'pos': 'N', 'phrase': {0: 'area', 1: 'land'}}, {'pos': 'N', 'phrase': {0: 'organization', 1: 'cultivation', 2: 'report'}}, {'pos': 'N', 'phrase': {0: 'land', 1: 'area'}}, {'pos': 'N', 'phrase': {0: 'reporting', 1: 'period'}}], [])\n",
              "14  Area of land indirectly controlled by the organization and under sustainable cultivation or sustainable stewardship. Report indirectly controlled land area sustainably managed during the reporting period.                                              ([{'pos': 'N', 'phrase': {0: 'area', 1: 'land'}}, {'pos': 'N', 'phrase': {0: 'organization'}}, {'pos': 'N', 'phrase': {0: 'cultivation'}}, {'pos': 'N', 'phrase': {0: 'report'}}, {'pos': 'N', 'phrase': {0: 'land', 1: 'area'}}, {'pos': 'N', 'phrase': {0: 'reporting', 1: 'period'}}], [])\n",
              "15                                        Price premium percentage that the producer (supplier) selling to the organization obtains from the organization for its goods or services during the reporting period.  ([{'pos': 'N', 'phrase': {0: 'price', 1: 'premium', 2: 'percentage', 3: 'producer', 4: 'supplier'}}, {'pos': 'N', 'phrase': {0: 'organization', 1: 'obtains', 2: 'organization'}}, {'pos': 'N', 'phrase': {0: 'service'}}, {'pos': 'N', 'phrase': {0: 'during', 1: 'reporting', 2: 'period'}}], [{'pos': 'V', 'phrase': {0: 'selling'}}])\n",
              "16                                                                                         Average agricultural yield per hectare of clients (who were farmers) of the organization during the reporting period.                                                                                                                                      ([{'pos': 'N', 'phrase': {0: 'yield'}}, {'pos': 'N', 'phrase': {0: 'hectare', 1: 'client', 2: 'farmer', 3: 'organization'}}, {'pos': 'N', 'phrase': {0: 'during', 1: 'reporting', 2: 'period'}}], [])\n",
              "17                                                                            Average agricultural yield per hectare, of clients (who were smallholder farmers) of the organization during the reporting period.                                                                                                                    ([{'pos': 'N', 'phrase': {0: 'yield'}}, {'pos': 'N', 'phrase': {0: 'hectare', 1: 'client', 2: 'smallholder', 3: 'farmer', 4: 'organization'}}, {'pos': 'N', 'phrase': {0: 'during', 1: 'reporting', 2: 'period'}}], [])\n",
              "18                                              Units/volume purchased from supplier individuals and organizations that sold to the organization that have received a price premium during the reporting period.                                                                ([{'pos': 'N', 'phrase': {0: 'units', 1: 'volume'}}, {'pos': 'N', 'phrase': {0: 'organization'}}, {'pos': 'N', 'phrase': {0: 'organization'}}, {'pos': 'N', 'phrase': {0: 'price', 1: 'premium'}}, {'pos': 'N', 'phrase': {0: 'during', 1: 'reporting', 2: 'period'}}], [])\n",
              "19                                                                                                Units/volume purchased from organizations that sold to the reporting organization during the reporting period.                                                                            ([{'pos': 'N', 'phrase': {0: 'units', 1: 'volume'}}, {'pos': 'N', 'phrase': {0: 'organization'}}, {'pos': 'N', 'phrase': {0: 'organization'}}, {'pos': 'N', 'phrase': {0: 'during', 1: 'reporting', 2: 'period'}}], [{'pos': 'V', 'phrase': {0: 'reporting'}}])"
            ]
          },
          "metadata": {},
          "execution_count": 61
        }
      ]
    },
    {
      "cell_type": "markdown",
      "metadata": {
        "id": "fjecZIT50uBV"
      },
      "source": [
        "## Positional Rule Based System"
      ]
    },
    {
      "cell_type": "code",
      "metadata": {
        "colab": {
          "base_uri": "https://localhost:8080/"
        },
        "id": "qBUsKkvA6O-t",
        "outputId": "2ebd2a19-921d-419f-96b2-56ae66a33fea"
      },
      "source": [
        "#measurement is the first noun\n",
        "#phenomenon is the second noun\n",
        "measurement = nouns[0]\n",
        "phenomenon = nouns[1]\n",
        "\n",
        "print(measurement)\n",
        "print(phenomenon)"
      ],
      "execution_count": null,
      "outputs": [
        {
          "output_type": "stream",
          "name": "stdout",
          "text": [
            "{'pos': 'N', 'phrase': {0: 'number'}}\n",
            "{'pos': 'N', 'phrase': {0: 'smallholder', 1: 'farmer'}}\n"
          ]
        }
      ]
    },
    {
      "cell_type": "code",
      "metadata": {
        "id": "LHqZcilp834J"
      },
      "source": [
        "# reporting period and it's associated IN is the reporting period\n",
        "rep_period_detail = other[-1]\n",
        "rep_period = nouns[-1]"
      ],
      "execution_count": null,
      "outputs": []
    },
    {
      "cell_type": "code",
      "metadata": {
        "colab": {
          "base_uri": "https://localhost:8080/"
        },
        "id": "_2GwNwwqGibK",
        "outputId": "81b1ac08-8065-44f3-b2d6-000d79e76a6c"
      },
      "source": [
        "print(rep_period_detail)\n",
        "print(rep_period)"
      ],
      "execution_count": null,
      "outputs": [
        {
          "output_type": "stream",
          "name": "stdout",
          "text": [
            "{'pos': 'IN', 'phrase': {0: 'during'}}\n",
            "{'pos': 'N', 'phrase': {0: 'period'}}\n"
          ]
        }
      ]
    },
    {
      "cell_type": "markdown",
      "metadata": {
        "id": "d4IUSoFmdFum"
      },
      "source": [
        "## Spacy Named Entity Recog"
      ]
    },
    {
      "cell_type": "code",
      "metadata": {
        "id": "lQFjX4kjd32G"
      },
      "source": [
        "import spacy\n",
        "\n",
        "nlp = spacy.load(\"en_core_web_sm\")\n",
        "doc = nlp(\"Number of unique smallholder farmer individuals who were clients during the reporting period.\")\n",
        "\n",
        "for ent in doc.ents:\n",
        "    print(ent.text, ent.start_char, ent.end_char, ent.label_)"
      ],
      "execution_count": null,
      "outputs": []
    },
    {
      "cell_type": "markdown",
      "metadata": {
        "id": "T1bdzfyWgjKi"
      },
      "source": [
        "## Gensim Word Vectors"
      ]
    },
    {
      "cell_type": "code",
      "source": [
        "import gensim.downloader as api\n",
        "\n",
        "# download the pretrained embeddings\n",
        "pre_ft_vectors = api.load(\"glove-wiki-gigaword-100\")\n",
        "#pre_ft_vector2 = api.load('fasttext-wiki-news-subwords-300')"
      ],
      "metadata": {
        "colab": {
          "base_uri": "https://localhost:8080/"
        },
        "id": "s71mfg3I46pv",
        "outputId": "91cf69e3-883a-47db-9be8-589fdfdcee60"
      },
      "execution_count": null,
      "outputs": [
        {
          "output_type": "stream",
          "name": "stdout",
          "text": [
            "[==================================================] 100.0% 128.1/128.1MB downloaded\n"
          ]
        }
      ]
    },
    {
      "cell_type": "code",
      "metadata": {
        "id": "7kV4MJPHhUel"
      },
      "source": [
        "# indicator keyword vectors\n",
        "indicator_vectors = {}\n",
        "for n in nouns:\n",
        "  p = n['phrase'].values()\n",
        "  for w in p:\n",
        "    v = pre_ft_vectors.get_vector(w)\n",
        "    indicator_vectors[w] = v\n"
      ],
      "execution_count": null,
      "outputs": []
    },
    {
      "cell_type": "code",
      "source": [
        "# cids class vectors\n",
        "cids_classes = ['indicator','organization','person','measurement','stakeholder']\n",
        "\n",
        "cids_vectors = {}\n",
        "\n",
        "for w in cids_classes:\n",
        "  v = pre_ft_vectors.get_vector(w)\n",
        "  cids_vectors[w] = v"
      ],
      "metadata": {
        "id": "HrFmE_5Np6X7"
      },
      "execution_count": null,
      "outputs": []
    },
    {
      "cell_type": "code",
      "source": [
        "# cosine distance\n",
        "from scipy.spatial import distance"
      ],
      "metadata": {
        "id": "AJSHc6cUh8IG"
      },
      "execution_count": null,
      "outputs": []
    },
    {
      "cell_type": "code",
      "source": [
        ""
      ],
      "metadata": {
        "id": "Rl-YLpsxALon"
      },
      "execution_count": null,
      "outputs": []
    },
    {
      "cell_type": "code",
      "source": [
        "i = indicator_vectors['client']\n",
        "\n",
        "cos_distances = []\n",
        "for c in cids_classes:\n",
        "  cos_distances.append(distance.cosine(cids_vectors[c],i))\n",
        "\n",
        "cos_distances"
      ],
      "metadata": {
        "id": "frZH8fuWiTz8",
        "colab": {
          "base_uri": "https://localhost:8080/"
        },
        "outputId": "35c54df4-b1e6-4bcf-9f8c-281c9a2db3ac"
      },
      "execution_count": null,
      "outputs": [
        {
          "output_type": "execute_result",
          "data": {
            "text/plain": [
              "[0.8884387165307999,\n",
              " 0.6253991723060608,\n",
              " 0.42667192220687866,\n",
              " 0.7757274955511093,\n",
              " 0.887111522257328]"
            ]
          },
          "metadata": {},
          "execution_count": 38
        }
      ]
    }
  ]
}